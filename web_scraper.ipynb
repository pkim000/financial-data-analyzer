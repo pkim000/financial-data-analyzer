{
  "nbformat": 4,
  "nbformat_minor": 0,
  "metadata": {
    "colab": {
      "provenance": [],
      "authorship_tag": "ABX9TyPRrf7+G+FJ2S3hIluHuqKD",
      "include_colab_link": true
    },
    "kernelspec": {
      "name": "python3",
      "display_name": "Python 3"
    },
    "language_info": {
      "name": "python"
    }
  },
  "cells": [
    {
      "cell_type": "markdown",
      "metadata": {
        "id": "view-in-github",
        "colab_type": "text"
      },
      "source": [
        "<a href=\"https://colab.research.google.com/github/pkim000/revenue-data-analyzer/blob/main/web_scraper.ipynb\" target=\"_parent\"><img src=\"https://colab.research.google.com/assets/colab-badge.svg\" alt=\"Open In Colab\"/></a>"
      ]
    },
    {
      "cell_type": "code",
      "execution_count": null,
      "metadata": {
        "id": "B2bfNB1qVi0b"
      },
      "outputs": [],
      "source": [
        "import pandas as pd\n",
        "import requests\n",
        "import random\n",
        "import numpy as np\n",
        "import csv\n",
        "\n",
        "#list of fake user agents\n",
        "user_list = [\n",
        "    'Mozilla/5.0 (iPad; CPU OS 12_2 like Mac OS X) AppleWebKit/605.1.15 (KHTML, like Gecko) Mobile/15E148',\n",
        "    'Mozilla/5.0 (Macintosh; Intel Mac OS X 10_15_7) AppleWebKit/537.36 (KHTML, like Gecko) Chrome/99.0.4844.83 Safari/537.36',\n",
        "    'Mozilla/5.0 (Windows NT 10.0; Win64; x64) AppleWebKit/537.36 (KHTML, like Gecko) Chrome/99.0.4844.51 Safari/537.36'\n",
        "    'Mozilla/5.0 (Windows NT 10.0; Win64; x64) AppleWebKit/537.36 (KHTML, like Gecko) Chrome/114.0.0.0 Safari/537.36'\n",
        "    'Mozilla/5.0 (Macintosh; Intel Mac OS X 10_7_4) AppleWebKit/537.13 (KHTML, like Gecko) Chrome/24.0.1290.1 Safari/537.13'\n",
        "    ]\n",
        "\n",
        "#input prompts for url to website & ticker name\n",
        "url = input('Enter URL: ')\n",
        "nameOfFile = input('Enter ticker: ').upper()\n",
        "\n",
        "#scrapeWebsite uses requests.get to access the input website with random fake user from user_list\n",
        "scrapeWebsite = requests.get(url, headers={'User-Agent': random.choice(user_list)})\n",
        "\n",
        "#table uses pandas library .read_html function to read html tables into a list of dataframe objects\n",
        "table = pd.read_html(scrapeWebsite.text)\n",
        "\n",
        "#converts table (a list) into df (a dataframe)\n",
        "df = table[0]\n",
        "\n",
        "#writes df to a .csv file, appends .csv to nameOfFile, index=False used to prevent dataframe row labels from being included\n",
        "df.to_csv(nameOfFile + '.csv', index=False)\n",
        "\n",
        "#prints dataframe\n",
        "df\n",
        "\n",
        "#test link- https://stockanalysis.com/stocks/tsla/financials/\n"
      ]
    },
    {
      "cell_type": "markdown",
      "source": [
        "stock website links/useful links for proj:\n",
        "- https://www.macrotrends.net/stocks/charts/TSLA/tesla/financial-statements\n",
        "\n",
        "- https://stockanalysis.com/stocks/tsla/financials/\n",
        "\n",
        "- 403 error: https://scrapeops.io/web-scraping-playbook/403-forbidden-error-web-scraping/\n",
        "\n",
        "- writing to csv: https://www.geeksforgeeks.org/python-save-list-to-csv/\n",
        "\n",
        "- why 'index=False' used: https://sentry.io/answers/write-a-python-pandas-dataframe-to-a-csv-file/#:~:text=After%20creating%20our%20DataFrame%2C%20we,Unicode%20character%20in%20%E2%80%9CAndr%C3%A9.%E2%80%9D\n",
        "\n",
        "- pandas library definition for read_html function: https://pandas.pydata.org/docs/reference/api/pandas.read_html.html\n",
        "\n"
      ],
      "metadata": {
        "id": "ZQNGX0Hdirjj"
      }
    }
  ]
}