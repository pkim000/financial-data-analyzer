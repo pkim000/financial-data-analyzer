{
  "nbformat": 4,
  "nbformat_minor": 0,
  "metadata": {
    "colab": {
      "provenance": [],
      "authorship_tag": "ABX9TyOk0N+TY1ZGhvxFHvmbvRzW",
      "include_colab_link": true
    },
    "kernelspec": {
      "name": "python3",
      "display_name": "Python 3"
    },
    "language_info": {
      "name": "python"
    }
  },
  "cells": [
    {
      "cell_type": "markdown",
      "metadata": {
        "id": "view-in-github",
        "colab_type": "text"
      },
      "source": [
        "<a href=\"https://colab.research.google.com/github/pkim000/revenue-data-analyzer/blob/main/web_scraper.ipynb\" target=\"_parent\"><img src=\"https://colab.research.google.com/assets/colab-badge.svg\" alt=\"Open In Colab\"/></a>"
      ]
    },
    {
      "cell_type": "code",
      "execution_count": 18,
      "metadata": {
        "id": "B2bfNB1qVi0b",
        "colab": {
          "base_uri": "https://localhost:8080/"
        },
        "outputId": "801ed23b-b4ff-4cd4-b6af-e971e1a7943d"
      },
      "outputs": [
        {
          "name": "stdout",
          "output_type": "stream",
          "text": [
            "Enter URL: https://www.geeksforgeeks.org/python-save-list-to-csv/\n"
          ]
        }
      ],
      "source": [
        "import pandas as pd\n",
        "import requests\n",
        "import random\n",
        "import numpy as np\n",
        "import csv\n",
        "\n",
        "user_list = [\n",
        "    'Mozilla/5.0 (iPad; CPU OS 12_2 like Mac OS X) AppleWebKit/605.1.15 (KHTML, like Gecko) Mobile/15E148',\n",
        "    'Mozilla/5.0 (Macintosh; Intel Mac OS X 10_15_7) AppleWebKit/537.36 (KHTML, like Gecko) Chrome/99.0.4844.83 Safari/537.36',\n",
        "    'Mozilla/5.0 (Windows NT 10.0; Win64; x64) AppleWebKit/537.36 (KHTML, like Gecko) Chrome/99.0.4844.51 Safari/537.36'\n",
        "    ]\n",
        "\n",
        "url = input('Enter URL: ')\n",
        "\n",
        "scrape = requests.get(url, headers={'User-Agent': random.choice(user_list)})\n",
        "\n",
        "table = pd.read_html(scrape.text)\n",
        "table\n",
        "\n",
        "with open('data.csv', 'w') as f:\n",
        "    writer = csv.writer(f)\n",
        "    writer.writerows(table)\n",
        "\n",
        "\n",
        "#dataframe solution try:\n",
        "#df1 = table[0]\n",
        "#table_reshaped = df1.values.reshape(df1.shape[0], -1)\n",
        "#np.savetxt('data.csv', table_reshaped, delimiter=',')\n",
        "\n",
        "\n",
        "#print(r.text)\n",
        "\n",
        "#stock website links/useful links for proj:\n",
        "#https://www.macrotrends.net/stocks/charts/TSLA/tesla/financial-statements\n",
        "#https://stockanalysis.com/stocks/tsla/financials/\n",
        "#403 error: https://scrapeops.io/web-scraping-playbook/403-forbidden-error-web-scraping/"
      ]
    }
  ]
}